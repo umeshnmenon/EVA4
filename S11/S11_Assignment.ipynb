{
  "nbformat": 4,
  "nbformat_minor": 0,
  "metadata": {
    "colab": {
      "name": "A11.ipynb",
      "provenance": [],
      "collapsed_sections": []
    },
    "kernelspec": {
      "name": "python3",
      "display_name": "Python 3"
    },
    "accelerator": "GPU",
    "widgets": {
      "application/vnd.jupyter.widget-state+json": {
        "884067a0ed334851913d6cb9aa0cedef": {
          "model_module": "@jupyter-widgets/controls",
          "model_name": "HBoxModel",
          "state": {
            "_view_name": "HBoxView",
            "_dom_classes": [],
            "_model_name": "HBoxModel",
            "_view_module": "@jupyter-widgets/controls",
            "_model_module_version": "1.5.0",
            "_view_count": null,
            "_view_module_version": "1.5.0",
            "box_style": "",
            "layout": "IPY_MODEL_bb48d2bb565e47fca4162bd72b7023ec",
            "_model_module": "@jupyter-widgets/controls",
            "children": [
              "IPY_MODEL_956cebc4889d4c798aaabf0e14ad0318",
              "IPY_MODEL_ebcae10c7b4541cfaa6230f70e1becda"
            ]
          }
        },
        "bb48d2bb565e47fca4162bd72b7023ec": {
          "model_module": "@jupyter-widgets/base",
          "model_name": "LayoutModel",
          "state": {
            "_view_name": "LayoutView",
            "grid_template_rows": null,
            "right": null,
            "justify_content": null,
            "_view_module": "@jupyter-widgets/base",
            "overflow": null,
            "_model_module_version": "1.2.0",
            "_view_count": null,
            "flex_flow": null,
            "width": null,
            "min_width": null,
            "border": null,
            "align_items": null,
            "bottom": null,
            "_model_module": "@jupyter-widgets/base",
            "top": null,
            "grid_column": null,
            "overflow_y": null,
            "overflow_x": null,
            "grid_auto_flow": null,
            "grid_area": null,
            "grid_template_columns": null,
            "flex": null,
            "_model_name": "LayoutModel",
            "justify_items": null,
            "grid_row": null,
            "max_height": null,
            "align_content": null,
            "visibility": null,
            "align_self": null,
            "height": null,
            "min_height": null,
            "padding": null,
            "grid_auto_rows": null,
            "grid_gap": null,
            "max_width": null,
            "order": null,
            "_view_module_version": "1.2.0",
            "grid_template_areas": null,
            "object_position": null,
            "object_fit": null,
            "grid_auto_columns": null,
            "margin": null,
            "display": null,
            "left": null
          }
        },
        "956cebc4889d4c798aaabf0e14ad0318": {
          "model_module": "@jupyter-widgets/controls",
          "model_name": "IntProgressModel",
          "state": {
            "_view_name": "ProgressView",
            "style": "IPY_MODEL_78784c81402d492a9d0c65a16b709e2c",
            "_dom_classes": [],
            "description": "",
            "_model_name": "IntProgressModel",
            "bar_style": "info",
            "max": 1,
            "_view_module": "@jupyter-widgets/controls",
            "_model_module_version": "1.5.0",
            "value": 1,
            "_view_count": null,
            "_view_module_version": "1.5.0",
            "orientation": "horizontal",
            "min": 0,
            "description_tooltip": null,
            "_model_module": "@jupyter-widgets/controls",
            "layout": "IPY_MODEL_6954e72b1c414292926c6e40668c1306"
          }
        },
        "ebcae10c7b4541cfaa6230f70e1becda": {
          "model_module": "@jupyter-widgets/controls",
          "model_name": "HTMLModel",
          "state": {
            "_view_name": "HTMLView",
            "style": "IPY_MODEL_01332a958ac24fb0a3012d3af33892d4",
            "_dom_classes": [],
            "description": "",
            "_model_name": "HTMLModel",
            "placeholder": "​",
            "_view_module": "@jupyter-widgets/controls",
            "_model_module_version": "1.5.0",
            "value": " 170500096/? [00:20&lt;00:00, 49448937.79it/s]",
            "_view_count": null,
            "_view_module_version": "1.5.0",
            "description_tooltip": null,
            "_model_module": "@jupyter-widgets/controls",
            "layout": "IPY_MODEL_698a974248ae4b7d8defba9f8195a2e9"
          }
        },
        "78784c81402d492a9d0c65a16b709e2c": {
          "model_module": "@jupyter-widgets/controls",
          "model_name": "ProgressStyleModel",
          "state": {
            "_view_name": "StyleView",
            "_model_name": "ProgressStyleModel",
            "description_width": "initial",
            "_view_module": "@jupyter-widgets/base",
            "_model_module_version": "1.5.0",
            "_view_count": null,
            "_view_module_version": "1.2.0",
            "bar_color": null,
            "_model_module": "@jupyter-widgets/controls"
          }
        },
        "6954e72b1c414292926c6e40668c1306": {
          "model_module": "@jupyter-widgets/base",
          "model_name": "LayoutModel",
          "state": {
            "_view_name": "LayoutView",
            "grid_template_rows": null,
            "right": null,
            "justify_content": null,
            "_view_module": "@jupyter-widgets/base",
            "overflow": null,
            "_model_module_version": "1.2.0",
            "_view_count": null,
            "flex_flow": null,
            "width": null,
            "min_width": null,
            "border": null,
            "align_items": null,
            "bottom": null,
            "_model_module": "@jupyter-widgets/base",
            "top": null,
            "grid_column": null,
            "overflow_y": null,
            "overflow_x": null,
            "grid_auto_flow": null,
            "grid_area": null,
            "grid_template_columns": null,
            "flex": null,
            "_model_name": "LayoutModel",
            "justify_items": null,
            "grid_row": null,
            "max_height": null,
            "align_content": null,
            "visibility": null,
            "align_self": null,
            "height": null,
            "min_height": null,
            "padding": null,
            "grid_auto_rows": null,
            "grid_gap": null,
            "max_width": null,
            "order": null,
            "_view_module_version": "1.2.0",
            "grid_template_areas": null,
            "object_position": null,
            "object_fit": null,
            "grid_auto_columns": null,
            "margin": null,
            "display": null,
            "left": null
          }
        },
        "01332a958ac24fb0a3012d3af33892d4": {
          "model_module": "@jupyter-widgets/controls",
          "model_name": "DescriptionStyleModel",
          "state": {
            "_view_name": "StyleView",
            "_model_name": "DescriptionStyleModel",
            "description_width": "",
            "_view_module": "@jupyter-widgets/base",
            "_model_module_version": "1.5.0",
            "_view_count": null,
            "_view_module_version": "1.2.0",
            "_model_module": "@jupyter-widgets/controls"
          }
        },
        "698a974248ae4b7d8defba9f8195a2e9": {
          "model_module": "@jupyter-widgets/base",
          "model_name": "LayoutModel",
          "state": {
            "_view_name": "LayoutView",
            "grid_template_rows": null,
            "right": null,
            "justify_content": null,
            "_view_module": "@jupyter-widgets/base",
            "overflow": null,
            "_model_module_version": "1.2.0",
            "_view_count": null,
            "flex_flow": null,
            "width": null,
            "min_width": null,
            "border": null,
            "align_items": null,
            "bottom": null,
            "_model_module": "@jupyter-widgets/base",
            "top": null,
            "grid_column": null,
            "overflow_y": null,
            "overflow_x": null,
            "grid_auto_flow": null,
            "grid_area": null,
            "grid_template_columns": null,
            "flex": null,
            "_model_name": "LayoutModel",
            "justify_items": null,
            "grid_row": null,
            "max_height": null,
            "align_content": null,
            "visibility": null,
            "align_self": null,
            "height": null,
            "min_height": null,
            "padding": null,
            "grid_auto_rows": null,
            "grid_gap": null,
            "max_width": null,
            "order": null,
            "_view_module_version": "1.2.0",
            "grid_template_areas": null,
            "object_position": null,
            "object_fit": null,
            "grid_auto_columns": null,
            "margin": null,
            "display": null,
            "left": null
          }
        }
      }
    }
  },
  "cells": [
    {
      "cell_type": "markdown",
      "metadata": {
        "id": "8LtrdZLI6BOC",
        "colab_type": "text"
      },
      "source": [
        "##Assignment 11 EVA\n",
        "\n",
        "This contains code that creates a modified ResNet DNN in PyTorch with best LR search using LR Range Test and training using Once Cycle Policy"
      ]
    },
    {
      "cell_type": "code",
      "metadata": {
        "id": "64QQattn5vfs",
        "colab_type": "code",
        "outputId": "a12f1e0a-cd34-4cac-871e-76dbc9cbeaf5",
        "colab": {
          "base_uri": "https://localhost:8080/",
          "height": 122
        }
      },
      "source": [
        "from google.colab import drive\n",
        "drive.mount(\"/content/gdrive/\", force_remount=True)"
      ],
      "execution_count": 0,
      "outputs": [
        {
          "output_type": "stream",
          "text": [
            "Go to this URL in a browser: https://accounts.google.com/o/oauth2/auth?client_id=947318989803-6bn6qk8qdgf4n4g3pfee6491hc0brc4i.apps.googleusercontent.com&redirect_uri=urn%3aietf%3awg%3aoauth%3a2.0%3aoob&response_type=code&scope=email%20https%3a%2f%2fwww.googleapis.com%2fauth%2fdocs.test%20https%3a%2f%2fwww.googleapis.com%2fauth%2fdrive%20https%3a%2f%2fwww.googleapis.com%2fauth%2fdrive.photos.readonly%20https%3a%2f%2fwww.googleapis.com%2fauth%2fpeopleapi.readonly\n",
            "\n",
            "Enter your authorization code:\n",
            "··········\n",
            "Mounted at /content/gdrive/\n"
          ],
          "name": "stdout"
        }
      ]
    },
    {
      "cell_type": "code",
      "metadata": {
        "id": "xrlKffPt62_y",
        "colab_type": "code",
        "colab": {}
      },
      "source": [
        "import sys\n",
        "sys.path.append('/content/gdrive/My Drive/Colab Notebooks/EVA4/S11')"
      ],
      "execution_count": 0,
      "outputs": []
    },
    {
      "cell_type": "markdown",
      "metadata": {
        "id": "XGvHMYoz6_wO",
        "colab_type": "text"
      },
      "source": [
        "Install Albumentations"
      ]
    },
    {
      "cell_type": "code",
      "metadata": {
        "id": "x8zVNDgy7CEH",
        "colab_type": "code",
        "outputId": "c2e488e8-037b-413b-9514-66dddb48bfca",
        "colab": {
          "base_uri": "https://localhost:8080/",
          "height": 683
        }
      },
      "source": [
        "!pip install albumentations==0.4.5"
      ],
      "execution_count": 0,
      "outputs": [
        {
          "output_type": "stream",
          "text": [
            "Collecting albumentations==0.4.5\n",
            "\u001b[?25l  Downloading https://files.pythonhosted.org/packages/8d/40/a343ecacc7e22fe52ab9a16b84dc6165ba05ee17e3729adeb3e2ffa2b37b/albumentations-0.4.5.tar.gz (116kB)\n",
            "\u001b[K     |████████████████████████████████| 122kB 4.7MB/s \n",
            "\u001b[?25hRequirement already satisfied: numpy>=1.11.1 in /usr/local/lib/python3.6/dist-packages (from albumentations==0.4.5) (1.18.2)\n",
            "Requirement already satisfied: scipy in /usr/local/lib/python3.6/dist-packages (from albumentations==0.4.5) (1.4.1)\n",
            "Collecting imgaug<0.2.7,>=0.2.5\n",
            "\u001b[?25l  Downloading https://files.pythonhosted.org/packages/ad/2e/748dbb7bb52ec8667098bae9b585f448569ae520031932687761165419a2/imgaug-0.2.6.tar.gz (631kB)\n",
            "\u001b[K     |████████████████████████████████| 634kB 14.8MB/s \n",
            "\u001b[?25hRequirement already satisfied: PyYAML in /usr/local/lib/python3.6/dist-packages (from albumentations==0.4.5) (3.13)\n",
            "Requirement already satisfied: opencv-python>=4.1.1 in /usr/local/lib/python3.6/dist-packages (from albumentations==0.4.5) (4.1.2.30)\n",
            "Requirement already satisfied: scikit-image>=0.11.0 in /usr/local/lib/python3.6/dist-packages (from imgaug<0.2.7,>=0.2.5->albumentations==0.4.5) (0.16.2)\n",
            "Requirement already satisfied: six in /usr/local/lib/python3.6/dist-packages (from imgaug<0.2.7,>=0.2.5->albumentations==0.4.5) (1.12.0)\n",
            "Requirement already satisfied: networkx>=2.0 in /usr/local/lib/python3.6/dist-packages (from scikit-image>=0.11.0->imgaug<0.2.7,>=0.2.5->albumentations==0.4.5) (2.4)\n",
            "Requirement already satisfied: matplotlib!=3.0.0,>=2.0.0 in /usr/local/lib/python3.6/dist-packages (from scikit-image>=0.11.0->imgaug<0.2.7,>=0.2.5->albumentations==0.4.5) (3.2.1)\n",
            "Requirement already satisfied: pillow>=4.3.0 in /usr/local/lib/python3.6/dist-packages (from scikit-image>=0.11.0->imgaug<0.2.7,>=0.2.5->albumentations==0.4.5) (7.0.0)\n",
            "Requirement already satisfied: imageio>=2.3.0 in /usr/local/lib/python3.6/dist-packages (from scikit-image>=0.11.0->imgaug<0.2.7,>=0.2.5->albumentations==0.4.5) (2.4.1)\n",
            "Requirement already satisfied: PyWavelets>=0.4.0 in /usr/local/lib/python3.6/dist-packages (from scikit-image>=0.11.0->imgaug<0.2.7,>=0.2.5->albumentations==0.4.5) (1.1.1)\n",
            "Requirement already satisfied: decorator>=4.3.0 in /usr/local/lib/python3.6/dist-packages (from networkx>=2.0->scikit-image>=0.11.0->imgaug<0.2.7,>=0.2.5->albumentations==0.4.5) (4.4.2)\n",
            "Requirement already satisfied: python-dateutil>=2.1 in /usr/local/lib/python3.6/dist-packages (from matplotlib!=3.0.0,>=2.0.0->scikit-image>=0.11.0->imgaug<0.2.7,>=0.2.5->albumentations==0.4.5) (2.8.1)\n",
            "Requirement already satisfied: kiwisolver>=1.0.1 in /usr/local/lib/python3.6/dist-packages (from matplotlib!=3.0.0,>=2.0.0->scikit-image>=0.11.0->imgaug<0.2.7,>=0.2.5->albumentations==0.4.5) (1.2.0)\n",
            "Requirement already satisfied: cycler>=0.10 in /usr/local/lib/python3.6/dist-packages (from matplotlib!=3.0.0,>=2.0.0->scikit-image>=0.11.0->imgaug<0.2.7,>=0.2.5->albumentations==0.4.5) (0.10.0)\n",
            "Requirement already satisfied: pyparsing!=2.0.4,!=2.1.2,!=2.1.6,>=2.0.1 in /usr/local/lib/python3.6/dist-packages (from matplotlib!=3.0.0,>=2.0.0->scikit-image>=0.11.0->imgaug<0.2.7,>=0.2.5->albumentations==0.4.5) (2.4.7)\n",
            "Building wheels for collected packages: albumentations, imgaug\n",
            "  Building wheel for albumentations (setup.py) ... \u001b[?25l\u001b[?25hdone\n",
            "  Created wheel for albumentations: filename=albumentations-0.4.5-cp36-none-any.whl size=64378 sha256=fa0a4a5afd7290d0d558f6f1f23e99eeb1064f714881254d9c38ee87c574f3cb\n",
            "  Stored in directory: /root/.cache/pip/wheels/f0/a0/61/e50f93165a5ec7e7f5d65064e513239505bc4c06d2289557d3\n",
            "  Building wheel for imgaug (setup.py) ... \u001b[?25l\u001b[?25hdone\n",
            "  Created wheel for imgaug: filename=imgaug-0.2.6-cp36-none-any.whl size=654020 sha256=ed51968e8dd7f6bc332aab3129a4735951cebe82041bc0d4ab0b98bd1c9c45ee\n",
            "  Stored in directory: /root/.cache/pip/wheels/97/ec/48/0d25896c417b715af6236dbcef8f0bed136a1a5e52972fc6d0\n",
            "Successfully built albumentations imgaug\n",
            "Installing collected packages: imgaug, albumentations\n",
            "  Found existing installation: imgaug 0.2.9\n",
            "    Uninstalling imgaug-0.2.9:\n",
            "      Successfully uninstalled imgaug-0.2.9\n",
            "  Found existing installation: albumentations 0.1.12\n",
            "    Uninstalling albumentations-0.1.12:\n",
            "      Successfully uninstalled albumentations-0.1.12\n",
            "Successfully installed albumentations-0.4.5 imgaug-0.2.6\n"
          ],
          "name": "stdout"
        }
      ]
    },
    {
      "cell_type": "markdown",
      "metadata": {
        "id": "0uoHSyD267W5",
        "colab_type": "text"
      },
      "source": [
        "Import libraries"
      ]
    },
    {
      "cell_type": "code",
      "metadata": {
        "id": "9SgJ3CHr7LI_",
        "colab_type": "code",
        "colab": {}
      },
      "source": [
        "import matplotlib.pyplot as plt\n",
        "import numpy as np\n",
        "import torch\n",
        "import torch.nn as nn\n",
        "import torch.nn.functional as F\n",
        "import torch.optim as optim\n",
        "import torchvision\n",
        "#import torchvision.transforms as transforms\n",
        "from torchsummary import summary\n",
        "from tqdm import tqdm\n",
        "import torch.backends.cudnn as cudnn\n",
        "\n",
        "from transform.albu_transforms import *\n",
        "import datasetloader as d\n",
        "from models.A11DNN import *\n",
        "from train_test import train, test"
      ],
      "execution_count": 0,
      "outputs": []
    },
    {
      "cell_type": "markdown",
      "metadata": {
        "id": "UfalW9uZ7YgO",
        "colab_type": "text"
      },
      "source": [
        "Load the data"
      ]
    },
    {
      "cell_type": "code",
      "metadata": {
        "id": "Xd6UmC5r7aeg",
        "colab_type": "code",
        "outputId": "5777f788-7c76-40b1-9edf-69ccb9ab6506",
        "colab": {
          "base_uri": "https://localhost:8080/",
          "height": 100,
          "referenced_widgets": [
            "884067a0ed334851913d6cb9aa0cedef",
            "bb48d2bb565e47fca4162bd72b7023ec",
            "956cebc4889d4c798aaabf0e14ad0318",
            "ebcae10c7b4541cfaa6230f70e1becda",
            "78784c81402d492a9d0c65a16b709e2c",
            "6954e72b1c414292926c6e40668c1306",
            "01332a958ac24fb0a3012d3af33892d4",
            "698a974248ae4b7d8defba9f8195a2e9"
          ]
        }
      },
      "source": [
        "# setting up random seed and processing device\n",
        "SEED = 1\n",
        "cuda = torch.cuda.is_available()\n",
        "if cuda:\n",
        "    device = \"cuda\"\n",
        "    torch.cuda.manual_seed(SEED)\n",
        "else:\n",
        "    device = \"cpu\"\n",
        "    torch.manual_seed(SEED)\n",
        "\n",
        "classes = ('plane', 'car', 'bird', 'cat', 'deer', 'dog', 'frog', 'horse', 'ship', 'truck')\n",
        "\n",
        "## getting training data loader\n",
        "trainloader = d.get_dataloader_CIFAR10(True, cuda, transform=transform_train_albu)\n",
        "\n",
        "## getting test data loader\n",
        "testloader = d.get_dataloader_CIFAR10(False, cuda, transform=transform_test_albu)"
      ],
      "execution_count": 0,
      "outputs": [
        {
          "output_type": "stream",
          "text": [
            "Downloading https://www.cs.toronto.edu/~kriz/cifar-10-python.tar.gz to ./data/cifar-10-python.tar.gz\n"
          ],
          "name": "stdout"
        },
        {
          "output_type": "display_data",
          "data": {
            "application/vnd.jupyter.widget-view+json": {
              "model_id": "884067a0ed334851913d6cb9aa0cedef",
              "version_minor": 0,
              "version_major": 2
            },
            "text/plain": [
              "HBox(children=(IntProgress(value=1, bar_style='info', max=1), HTML(value='')))"
            ]
          },
          "metadata": {
            "tags": []
          }
        },
        {
          "output_type": "stream",
          "text": [
            "Extracting ./data/cifar-10-python.tar.gz to ./data\n",
            "Files already downloaded and verified\n"
          ],
          "name": "stdout"
        }
      ]
    },
    {
      "cell_type": "markdown",
      "metadata": {
        "id": "v5Rq7d2f7pUO",
        "colab_type": "text"
      },
      "source": [
        "Initialize the network architecture"
      ]
    },
    {
      "cell_type": "code",
      "metadata": {
        "id": "41vXoXh27uJa",
        "colab_type": "code",
        "outputId": "d0ab4e1d-950c-4109-b2bc-477777602bf1",
        "colab": {
          "base_uri": "https://localhost:8080/",
          "height": 785
        }
      },
      "source": [
        "!pip install torchsummary\n",
        "from torchsummary import summary\n",
        "net = A11DNN()\n",
        "net = net.to(device)\n",
        "if cuda:\n",
        "    net = torch.nn.DataParallel(net)\n",
        "    cudnn.benchmark = True\n",
        "summary(net, input_size=(3, 32, 32))"
      ],
      "execution_count": 0,
      "outputs": [
        {
          "output_type": "stream",
          "text": [
            "Requirement already satisfied: torchsummary in /usr/local/lib/python3.6/dist-packages (1.5.1)\n",
            "----------------------------------------------------------------\n",
            "        Layer (type)               Output Shape         Param #\n",
            "================================================================\n",
            "            Conv2d-1           [-1, 64, 32, 32]           1,792\n",
            "       BatchNorm2d-2           [-1, 64, 32, 32]             128\n",
            "              ReLU-3           [-1, 64, 32, 32]               0\n",
            "            Conv2d-4          [-1, 128, 32, 32]          73,856\n",
            "         MaxPool2d-5          [-1, 128, 16, 16]               0\n",
            "       BatchNorm2d-6          [-1, 128, 16, 16]             256\n",
            "              ReLU-7          [-1, 128, 16, 16]               0\n",
            "            Conv2d-8          [-1, 128, 16, 16]         147,456\n",
            "       BatchNorm2d-9          [-1, 128, 16, 16]             256\n",
            "           Conv2d-10          [-1, 128, 16, 16]         147,456\n",
            "      BatchNorm2d-11          [-1, 128, 16, 16]             256\n",
            "      ResNetBlock-12          [-1, 128, 16, 16]               0\n",
            "           Conv2d-13          [-1, 256, 16, 16]         295,168\n",
            "        MaxPool2d-14            [-1, 256, 8, 8]               0\n",
            "             ReLU-15            [-1, 256, 8, 8]               0\n",
            "      BatchNorm2d-16            [-1, 256, 8, 8]             512\n",
            "           Conv2d-17            [-1, 512, 8, 8]       1,180,160\n",
            "        MaxPool2d-18            [-1, 512, 4, 4]               0\n",
            "      BatchNorm2d-19            [-1, 512, 4, 4]           1,024\n",
            "             ReLU-20            [-1, 512, 4, 4]               0\n",
            "           Conv2d-21            [-1, 512, 4, 4]       2,359,296\n",
            "      BatchNorm2d-22            [-1, 512, 4, 4]           1,024\n",
            "           Conv2d-23            [-1, 512, 4, 4]       2,359,296\n",
            "      BatchNorm2d-24            [-1, 512, 4, 4]           1,024\n",
            "      ResNetBlock-25            [-1, 512, 4, 4]               0\n",
            "        MaxPool2d-26            [-1, 512, 1, 1]               0\n",
            "           Linear-27                   [-1, 10]           5,130\n",
            "           A11DNN-28                   [-1, 10]               0\n",
            "================================================================\n",
            "Total params: 6,574,090\n",
            "Trainable params: 6,574,090\n",
            "Non-trainable params: 0\n",
            "----------------------------------------------------------------\n",
            "Input size (MB): 0.01\n",
            "Forward/backward pass size (MB): 6.13\n",
            "Params size (MB): 25.08\n",
            "Estimated Total Size (MB): 31.22\n",
            "----------------------------------------------------------------\n"
          ],
          "name": "stdout"
        },
        {
          "output_type": "stream",
          "text": [
            "/content/gdrive/My Drive/Colab Notebooks/EVA4/S11/models/A11DNN.py:86: UserWarning: Implicit dimension choice for log_softmax has been deprecated. Change the call to include dim=X as an argument.\n",
            "  return F.log_softmax(x9)\n"
          ],
          "name": "stderr"
        }
      ]
    },
    {
      "cell_type": "markdown",
      "metadata": {
        "id": "3WTDJm5_HW3Z",
        "colab_type": "text"
      },
      "source": [
        "LR Range Test"
      ]
    },
    {
      "cell_type": "code",
      "metadata": {
        "id": "uff0p4cQHaAR",
        "colab_type": "code",
        "outputId": "6e4dfdb6-2403-430e-e825-06d8fde8cef6",
        "colab": {
          "base_uri": "https://localhost:8080/",
          "height": 1000
        }
      },
      "source": [
        "lr_min = 0.0001\n",
        "lr_max = 0.2\n",
        "lr_step = 0.001\n",
        "\n",
        "# loss function\n",
        "criterion = nn.CrossEntropyLoss()\n",
        "optimizer = optim.SGD(net.parameters(), lr=0, momentum=0.9, weight_decay=5e-4)\n",
        "accuracies = []\n",
        "epoch = 1\n",
        "# Model Training and Evaluation\n",
        "for lr_t in np.arange(lr_min, lr_max, lr_step):\n",
        "    avg_train_loss, accuracy = train(net, device, trainloader, optimizer, epoch, criterion)\n",
        "    accuracies.append(accuracy)\n",
        "    optimizer = optim.SGD(net.parameters(), lr=lr_t, momentum=0.9, weight_decay=5e-4)\n",
        "    epoch = epoch + 1\n",
        "    #test(net, device, testloader, criterion)"
      ],
      "execution_count": 0,
      "outputs": [
        {
          "output_type": "stream",
          "text": [
            "\r  0%|          | 0/391 [00:00<?, ?it/s]/content/gdrive/My Drive/Colab Notebooks/EVA4/S11/models/A11DNN.py:86: UserWarning: Implicit dimension choice for log_softmax has been deprecated. Change the call to include dim=X as an argument.\n",
            "  return F.log_softmax(x9)\n",
            "epoch=1 Loss=3.2568607330322266 Batch_id=390 Accuracy=12.04: 100%|██████████| 391/391 [00:40<00:00,  9.61it/s]\n",
            "epoch=2 Loss=1.7874586582183838 Batch_id=390 Accuracy=27.76: 100%|██████████| 391/391 [00:39<00:00,  9.81it/s]\n",
            "epoch=3 Loss=1.543853998184204 Batch_id=390 Accuracy=38.61: 100%|██████████| 391/391 [00:40<00:00,  9.67it/s]\n",
            "epoch=4 Loss=1.4306228160858154 Batch_id=390 Accuracy=45.86: 100%|██████████| 391/391 [00:40<00:00,  9.71it/s]\n",
            "epoch=5 Loss=1.5206619501113892 Batch_id=390 Accuracy=50.34: 100%|██████████| 391/391 [00:40<00:00,  9.56it/s]\n",
            "epoch=6 Loss=1.2032674551010132 Batch_id=390 Accuracy=54.26: 100%|██████████| 391/391 [00:40<00:00,  9.57it/s]\n",
            "epoch=7 Loss=1.4755187034606934 Batch_id=390 Accuracy=57.01: 100%|██████████| 391/391 [00:40<00:00,  9.57it/s]\n",
            "epoch=8 Loss=0.7773017287254333 Batch_id=390 Accuracy=59.70: 100%|██████████| 391/391 [00:41<00:00,  9.46it/s]\n",
            "epoch=9 Loss=1.2501803636550903 Batch_id=390 Accuracy=61.58: 100%|██████████| 391/391 [00:41<00:00,  9.44it/s]\n",
            "epoch=10 Loss=1.1697237491607666 Batch_id=390 Accuracy=63.38: 100%|██████████| 391/391 [00:41<00:00,  9.52it/s]\n",
            "epoch=11 Loss=1.2829463481903076 Batch_id=390 Accuracy=65.00: 100%|██████████| 391/391 [00:41<00:00,  9.36it/s]\n",
            "epoch=12 Loss=1.070430874824524 Batch_id=390 Accuracy=65.95: 100%|██████████| 391/391 [00:41<00:00,  9.39it/s]\n",
            "epoch=13 Loss=0.8958803415298462 Batch_id=390 Accuracy=66.75: 100%|██████████| 391/391 [00:41<00:00,  9.36it/s]\n",
            "epoch=14 Loss=0.7551980018615723 Batch_id=390 Accuracy=68.00: 100%|██████████| 391/391 [00:41<00:00,  9.34it/s]\n",
            "epoch=15 Loss=0.9781575202941895 Batch_id=390 Accuracy=69.51: 100%|██████████| 391/391 [00:41<00:00,  9.33it/s]\n",
            "epoch=16 Loss=0.8219135403633118 Batch_id=390 Accuracy=70.57: 100%|██████████| 391/391 [00:42<00:00,  9.22it/s]\n",
            "epoch=17 Loss=0.9467395544052124 Batch_id=390 Accuracy=71.33: 100%|██████████| 391/391 [00:42<00:00,  9.27it/s]\n",
            "epoch=18 Loss=0.7339850068092346 Batch_id=390 Accuracy=71.70: 100%|██████████| 391/391 [00:41<00:00,  9.35it/s]\n",
            "epoch=19 Loss=0.7557234764099121 Batch_id=390 Accuracy=72.81: 100%|██████████| 391/391 [00:42<00:00,  9.22it/s]\n",
            "epoch=20 Loss=0.7577940821647644 Batch_id=390 Accuracy=73.87: 100%|██████████| 391/391 [00:42<00:00,  9.30it/s]\n",
            "epoch=21 Loss=0.7523599863052368 Batch_id=390 Accuracy=74.16: 100%|██████████| 391/391 [00:41<00:00,  9.34it/s]\n",
            "epoch=22 Loss=0.7697327733039856 Batch_id=390 Accuracy=75.10: 100%|██████████| 391/391 [00:41<00:00,  9.33it/s]\n",
            "epoch=23 Loss=0.6024318933486938 Batch_id=390 Accuracy=75.55: 100%|██████████| 391/391 [00:42<00:00,  9.17it/s]\n",
            "epoch=24 Loss=0.7177755832672119 Batch_id=390 Accuracy=76.16: 100%|██████████| 391/391 [00:41<00:00,  9.42it/s]\n",
            "epoch=25 Loss=0.6857995390892029 Batch_id=390 Accuracy=76.80: 100%|██████████| 391/391 [00:41<00:00,  9.39it/s]\n",
            "epoch=26 Loss=0.6199065446853638 Batch_id=390 Accuracy=76.96: 100%|██████████| 391/391 [00:41<00:00,  9.47it/s]\n",
            "epoch=27 Loss=0.6935590505599976 Batch_id=390 Accuracy=77.25: 100%|██████████| 391/391 [00:41<00:00,  9.51it/s]\n",
            "epoch=28 Loss=0.5929712653160095 Batch_id=390 Accuracy=77.56: 100%|██████████| 391/391 [00:40<00:00,  9.61it/s]\n",
            "epoch=29 Loss=0.48840755224227905 Batch_id=390 Accuracy=78.32: 100%|██████████| 391/391 [00:40<00:00,  9.57it/s]\n",
            "epoch=30 Loss=0.587940514087677 Batch_id=390 Accuracy=78.39: 100%|██████████| 391/391 [00:40<00:00,  9.66it/s]\n",
            "epoch=31 Loss=0.7942638993263245 Batch_id=390 Accuracy=78.50: 100%|██████████| 391/391 [00:40<00:00,  9.68it/s]\n",
            "epoch=32 Loss=0.5058767795562744 Batch_id=390 Accuracy=78.91: 100%|██████████| 391/391 [00:40<00:00,  9.74it/s]\n",
            "epoch=33 Loss=0.5216922760009766 Batch_id=390 Accuracy=78.82: 100%|██████████| 391/391 [00:43<00:00,  9.03it/s]\n",
            "epoch=34 Loss=0.6210688352584839 Batch_id=390 Accuracy=78.75: 100%|██████████| 391/391 [00:41<00:00,  9.42it/s]\n",
            "epoch=35 Loss=0.614225447177887 Batch_id=390 Accuracy=79.02: 100%|██████████| 391/391 [00:41<00:00,  9.38it/s]\n",
            "epoch=36 Loss=0.5871821045875549 Batch_id=390 Accuracy=78.92: 100%|██████████| 391/391 [00:42<00:00,  9.21it/s]\n",
            "epoch=37 Loss=0.6521565914154053 Batch_id=390 Accuracy=78.99: 100%|██████████| 391/391 [00:45<00:00,  8.57it/s]\n",
            "epoch=38 Loss=0.7090001106262207 Batch_id=390 Accuracy=79.30: 100%|██████████| 391/391 [00:42<00:00,  9.17it/s]\n",
            "epoch=39 Loss=0.455671489238739 Batch_id=390 Accuracy=79.09: 100%|██████████| 391/391 [00:42<00:00,  9.27it/s]\n",
            "epoch=40 Loss=0.6416803598403931 Batch_id=390 Accuracy=79.21: 100%|██████████| 391/391 [00:41<00:00,  9.37it/s]\n",
            "epoch=41 Loss=0.534631073474884 Batch_id=390 Accuracy=79.41: 100%|██████████| 391/391 [00:41<00:00,  9.46it/s]\n",
            "epoch=42 Loss=0.4075690805912018 Batch_id=390 Accuracy=79.57: 100%|██████████| 391/391 [00:41<00:00,  9.45it/s]\n",
            "epoch=43 Loss=0.5649871230125427 Batch_id=390 Accuracy=79.38: 100%|██████████| 391/391 [00:41<00:00,  9.44it/s]\n",
            "epoch=44 Loss=0.9046637415885925 Batch_id=390 Accuracy=79.25: 100%|██████████| 391/391 [00:41<00:00,  9.47it/s]\n",
            "epoch=45 Loss=0.670046865940094 Batch_id=390 Accuracy=79.38: 100%|██████████| 391/391 [00:40<00:00,  9.60it/s]\n",
            "epoch=46 Loss=0.6256774663925171 Batch_id=390 Accuracy=79.21: 100%|██████████| 391/391 [00:40<00:00,  9.69it/s]\n",
            "epoch=47 Loss=0.7049465775489807 Batch_id=390 Accuracy=79.04: 100%|██████████| 391/391 [00:43<00:00,  8.99it/s]\n",
            "epoch=48 Loss=0.5434917211532593 Batch_id=390 Accuracy=79.03: 100%|██████████| 391/391 [00:40<00:00,  9.55it/s]\n",
            "epoch=49 Loss=0.5308810472488403 Batch_id=390 Accuracy=78.95: 100%|██████████| 391/391 [00:40<00:00,  9.62it/s]\n",
            "epoch=50 Loss=0.5894385576248169 Batch_id=390 Accuracy=78.97: 100%|██████████| 391/391 [00:40<00:00,  9.65it/s]\n",
            "epoch=51 Loss=0.6469437479972839 Batch_id=390 Accuracy=79.04: 100%|██████████| 391/391 [00:40<00:00,  9.75it/s]\n",
            "epoch=52 Loss=0.4244602620601654 Batch_id=390 Accuracy=78.84: 100%|██████████| 391/391 [00:40<00:00,  9.75it/s]\n",
            "epoch=53 Loss=0.6635387539863586 Batch_id=390 Accuracy=78.63: 100%|██████████| 391/391 [00:40<00:00,  9.71it/s]\n",
            "epoch=54 Loss=0.5109686851501465 Batch_id=390 Accuracy=78.60: 100%|██████████| 391/391 [00:39<00:00,  9.99it/s]\n",
            "epoch=55 Loss=0.5879802107810974 Batch_id=390 Accuracy=78.41: 100%|██████████| 391/391 [00:39<00:00,  9.94it/s]\n",
            "epoch=56 Loss=0.6981955766677856 Batch_id=390 Accuracy=78.04: 100%|██████████| 391/391 [00:39<00:00,  9.95it/s]\n",
            "epoch=57 Loss=0.6945040822029114 Batch_id=390 Accuracy=78.44: 100%|██████████| 391/391 [00:46<00:00,  8.49it/s]\n",
            "epoch=58 Loss=0.6626982688903809 Batch_id=390 Accuracy=78.76: 100%|██████████| 391/391 [00:41<00:00,  9.46it/s]\n",
            "epoch=59 Loss=0.682824969291687 Batch_id=390 Accuracy=77.92: 100%|██████████| 391/391 [00:41<00:00,  9.53it/s]\n",
            "epoch=60 Loss=0.6894555687904358 Batch_id=390 Accuracy=78.12: 100%|██████████| 391/391 [00:41<00:00,  9.36it/s]\n",
            "epoch=61 Loss=0.550599217414856 Batch_id=299 Accuracy=78.01:  76%|███████▌  | 298/391 [00:31<00:09,  9.69it/s] "
          ],
          "name": "stderr"
        }
      ]
    },
    {
      "cell_type": "markdown",
      "metadata": {
        "id": "tIyfrhQc73hr",
        "colab_type": "text"
      },
      "source": [
        "One Cycle Policy"
      ]
    },
    {
      "cell_type": "code",
      "metadata": {
        "id": "c-2697luaFbp",
        "colab_type": "code",
        "colab": {}
      },
      "source": [
        ""
      ],
      "execution_count": 0,
      "outputs": []
    }
  ]
}