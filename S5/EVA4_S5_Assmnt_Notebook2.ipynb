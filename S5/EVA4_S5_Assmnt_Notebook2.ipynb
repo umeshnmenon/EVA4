{
  "nbformat": 4,
  "nbformat_minor": 0,
  "metadata": {
    "colab": {
      "name": "EVA4-S5-Assmnt-Notebook2.ipynb",
      "provenance": [],
      "collapsed_sections": [],
      "include_colab_link": true
    },
    "kernelspec": {
      "name": "python3",
      "display_name": "Python 3"
    },
    "accelerator": "GPU"
  },
  "cells": [
    {
      "cell_type": "markdown",
      "metadata": {
        "id": "view-in-github",
        "colab_type": "text"
      },
      "source": [
        "<a href=\"https://colab.research.google.com/github/umeshnmenon/EVA4/blob/master/EVA4_S5_Assmnt_Notebook2.ipynb\" target=\"_parent\"><img src=\"https://colab.research.google.com/assets/colab-badge.svg\" alt=\"Open In Colab\"/></a>"
      ]
    },
    {
      "cell_type": "code",
      "metadata": {
        "id": "NhnEZPYOFIcT",
        "colab_type": "code",
        "colab": {}
      },
      "source": [
        "# Target:\n",
        "  ## 1.Add Regularization - Dropout\n",
        "  ## 2.Add Dropout to each layer\n",
        "\n",
        "# Result:\n",
        "   ## 1.Parameter:7,600\n",
        "   ## 2.Best train accuracy:98.34\n",
        "   ## 3.best test accuracy:99.02(14th epoch)\n",
        "\n",
        "# Analysis:\n",
        "   ## 1. The model is not over-fitting\n",
        "   ## 2. The model is under fitting because we using droupout to every layer and making model to train hard\n",
        "   ## 3. Add a layer after Gobal average pooling.Adding dense layer after GAP\n",
        "   \n",
        "   "
      ],
      "execution_count": 0,
      "outputs": []
    },
    {
      "cell_type": "code",
      "metadata": {
        "id": "u0ouqeSL6kyh",
        "colab_type": "code",
        "colab": {}
      },
      "source": [
        "from __future__ import print_function\n",
        "import torch\n",
        "import torch.nn as nn\n",
        "import torch.nn.functional as F\n",
        "import torch.optim as optim\n",
        "from torchvision import datasets, transforms"
      ],
      "execution_count": 0,
      "outputs": []
    },
    {
      "cell_type": "code",
      "metadata": {
        "id": "X3YG03Mg8f5s",
        "colab_type": "code",
        "outputId": "ad894f99-e0e1-4c52-f990-2a6b992ec799",
        "colab": {
          "base_uri": "https://localhost:8080/",
          "height": 692
        }
      },
      "source": [
        "class Net(nn.Module):\n",
        "    def __init__(self):\n",
        "        super(Net, self).__init__()\n",
        "        self.conv1=nn.Sequential(nn.Conv2d(in_channels=1, out_channels=16, kernel_size=(3, 3), padding=0, bias=False),           #conv1  1 input , 16 0utput and 3x3 kernel\n",
        "                                 nn.ReLU(),                              #RF:3\n",
        "                                 nn.BatchNorm2d(16),                     #o/p:26\n",
        "                                 nn.Dropout2d(0.04))\n",
        "        \n",
        "        self.conv2=nn.Sequential(nn.Conv2d(in_channels=16, out_channels=32, kernel_size=(3, 3), padding=0,bias=False),          #conv2  16 input , 32 0utput and 3x3 kernel\n",
        "                                 nn.ReLU(),                              #RF:5\n",
        "                                 nn.BatchNorm2d(32),                     #o/p:24\n",
        "                                 nn.Dropout2d(0.04))\n",
        "        \n",
        "        # used 1x1 kernel \n",
        "        self.conv3=nn.Sequential(nn.Conv2d(in_channels=32, out_channels=8, kernel_size=(1, 1), padding=0, bias=False))           #conv3  32 input , 8 0utput and 1x1 kernel \n",
        "                                                                         #RF:5\n",
        "                                                                         #o/p:24\n",
        "        \n",
        "        self.maxpool=nn.MaxPool2d(2,2)                                   # maxpooling 2x2 kernel and stride 2\n",
        "                                                                         #RF:6\n",
        "                                                                         #o/p:12\n",
        "\n",
        "        self.conv4=nn.Sequential(nn.Conv2d(8,8,3,bias=False),           #conv4  8 input , 16 0utput and 3x3 kernel\n",
        "                                 nn.ReLU(),                             #RF:10\n",
        "                                 nn.BatchNorm2d(8),                     #o/p:10\n",
        "                                 nn.Dropout2d(0.04))\n",
        "        \n",
        "        self.conv5=nn.Sequential(nn.Conv2d(8,8,3,bias=False),          #conv5  16 input , 16 0utput and 3x3 kernel\n",
        "                                 nn.ReLU(),                            #RF:14\n",
        "                                 nn.BatchNorm2d(8),                     #o/p:8\n",
        "                                 nn.Dropout2d(0.04))\n",
        "        \n",
        "       # self.maxpool=nn.MaxPool2d(2,2)\n",
        "        \n",
        "        self.conv6=nn.Sequential(nn.Conv2d(8,8,3,padding=1,bias=False),  #conv6  16 input , 16 0utput and 3x3 kernel\n",
        "                                 nn.ReLU(),                              #RF:18\n",
        "                                 nn.BatchNorm2d(8),                      #o/p:8\n",
        "                                 nn.Dropout2d(0.04))\n",
        "        \n",
        "        self.conv7=nn.Sequential(nn.Conv2d(8,10,3,bias=False))           #conv7  16 input , 10 0utput and 3x3 kernel\n",
        "                                                                         #RF:22\n",
        "\n",
        "                                                                          #o/p:6 \n",
        "                                  \n",
        "        \n",
        "        self.GAP=nn.AvgPool2d(6)                                        # Gobal Average Pooling \n",
        "                                                                        #RF:32\n",
        "                                                                        #o/p:1\n",
        "\n",
        "        #self.conv8 = nn.Sequential(nn.Conv2d(10,10,1, padding=0, bias=False))                                               \n",
        "       \n",
        "             \n",
        "    def forward(self,x):\n",
        "        x=self.conv1(x)\n",
        "        x=self.conv2(x)\n",
        "        x=self.conv3(x)\n",
        "        x=self.maxpool(x)\n",
        "        x=self.conv4(x)\n",
        "        x=self.conv5(x)\n",
        "        x=self.conv6(x)\n",
        "        x=self.conv7(x)\n",
        "        x=self.GAP(x)\n",
        "       # x=self.conv8(x)\n",
        "        x=x.view(-1,10)\n",
        "        return F.log_softmax(x)\n",
        "\n",
        "\n",
        "!pip install torchsummary\n",
        "from torchsummary import summary\n",
        "use_cuda = torch.cuda.is_available()\n",
        "device = torch.device(\"cuda\" if use_cuda else \"cpu\")\n",
        "model = Net().to(device)\n",
        "summary(model, input_size=(1, 28, 28))"
      ],
      "execution_count": 0,
      "outputs": [
        {
          "output_type": "stream",
          "text": [
            "Requirement already satisfied: torchsummary in /usr/local/lib/python3.6/dist-packages (1.5.1)\n",
            "----------------------------------------------------------------\n",
            "        Layer (type)               Output Shape         Param #\n",
            "================================================================\n",
            "            Conv2d-1           [-1, 16, 26, 26]             144\n",
            "              ReLU-2           [-1, 16, 26, 26]               0\n",
            "       BatchNorm2d-3           [-1, 16, 26, 26]              32\n",
            "         Dropout2d-4           [-1, 16, 26, 26]               0\n",
            "            Conv2d-5           [-1, 32, 24, 24]           4,608\n",
            "              ReLU-6           [-1, 32, 24, 24]               0\n",
            "       BatchNorm2d-7           [-1, 32, 24, 24]              64\n",
            "         Dropout2d-8           [-1, 32, 24, 24]               0\n",
            "            Conv2d-9            [-1, 8, 24, 24]             256\n",
            "        MaxPool2d-10            [-1, 8, 12, 12]               0\n",
            "           Conv2d-11            [-1, 8, 10, 10]             576\n",
            "             ReLU-12            [-1, 8, 10, 10]               0\n",
            "      BatchNorm2d-13            [-1, 8, 10, 10]              16\n",
            "        Dropout2d-14            [-1, 8, 10, 10]               0\n",
            "           Conv2d-15              [-1, 8, 8, 8]             576\n",
            "             ReLU-16              [-1, 8, 8, 8]               0\n",
            "      BatchNorm2d-17              [-1, 8, 8, 8]              16\n",
            "        Dropout2d-18              [-1, 8, 8, 8]               0\n",
            "           Conv2d-19              [-1, 8, 8, 8]             576\n",
            "             ReLU-20              [-1, 8, 8, 8]               0\n",
            "      BatchNorm2d-21              [-1, 8, 8, 8]              16\n",
            "        Dropout2d-22              [-1, 8, 8, 8]               0\n",
            "           Conv2d-23             [-1, 10, 6, 6]             720\n",
            "        AvgPool2d-24             [-1, 10, 1, 1]               0\n",
            "================================================================\n",
            "Total params: 7,600\n",
            "Trainable params: 7,600\n",
            "Non-trainable params: 0\n",
            "----------------------------------------------------------------\n",
            "Input size (MB): 0.00\n",
            "Forward/backward pass size (MB): 1.00\n",
            "Params size (MB): 0.03\n",
            "Estimated Total Size (MB): 1.03\n",
            "----------------------------------------------------------------\n"
          ],
          "name": "stdout"
        },
        {
          "output_type": "stream",
          "text": [
            "/usr/local/lib/python3.6/dist-packages/ipykernel_launcher.py:65: UserWarning: Implicit dimension choice for log_softmax has been deprecated. Change the call to include dim=X as an argument.\n"
          ],
          "name": "stderr"
        }
      ]
    },
    {
      "cell_type": "code",
      "metadata": {
        "id": "h6HN6aWf8hBa",
        "colab_type": "code",
        "colab": {}
      },
      "source": [
        "\n",
        "torch.manual_seed(12)\n",
        "batch_size = 128\n",
        "\n",
        "kwargs = {'num_workers': 1, 'pin_memory': True} if use_cuda else {}\n",
        "train_loader = torch.utils.data.DataLoader(\n",
        "    datasets.MNIST('../data', train=True, download=True,\n",
        "                    transform=transforms.Compose([\n",
        "                       # transforms.RandomRotation((-7.0, 7.0), fill=(1,)),\n",
        "                        transforms.ToTensor(),\n",
        "                        transforms.Normalize((0.1307,), (0.3081,))\n",
        "                    ])),\n",
        "    batch_size=batch_size, shuffle=True, **kwargs)\n",
        "test_loader = torch.utils.data.DataLoader(\n",
        "    datasets.MNIST('../data', train=False, transform=transforms.Compose([\n",
        "                        transforms.ToTensor(),\n",
        "                        transforms.Normalize((0.1307,), (0.3081,))\n",
        "                    ])),\n",
        "    batch_size=batch_size, shuffle=True, **kwargs)"
      ],
      "execution_count": 0,
      "outputs": []
    },
    {
      "cell_type": "code",
      "metadata": {
        "id": "KOHHVSyV8hhJ",
        "colab_type": "code",
        "colab": {}
      },
      "source": [
        "from tqdm import tqdm\n",
        "\n",
        "train_losses = []\n",
        "test_losses = []\n",
        "train_acc = []\n",
        "test_acc = []\n",
        "\n",
        "def train(model, device, train_loader, optimizer, epoch):\n",
        "  model.train()\n",
        "  pbar = tqdm(train_loader)\n",
        "  correct = 0\n",
        "  processed = 0\n",
        "  for batch_idx, (data, target) in enumerate(pbar):\n",
        "    # get samples\n",
        "    data, target = data.to(device), target.to(device)\n",
        "\n",
        "    # Init\n",
        "    optimizer.zero_grad()\n",
        "    # In PyTorch, we need to set the gradients to zero before starting to do backpropragation because PyTorch accumulates the gradients on subsequent backward passes. \n",
        "    # Because of this, when you start your training loop, ideally you should zero out the gradients so that you do the parameter update correctly.\n",
        "\n",
        "    # Predict\n",
        "    y_pred = model(data)\n",
        "\n",
        "    # Calculate loss\n",
        "    loss = F.nll_loss(y_pred, target)\n",
        "    train_losses.append(loss)\n",
        "\n",
        "    # Backpropagation\n",
        "    loss.backward()\n",
        "    optimizer.step()\n",
        "\n",
        "    # Update pbar-tqdm\n",
        "    \n",
        "    pred = y_pred.argmax(dim=1, keepdim=True)  # get the index of the max log-probability\n",
        "    correct += pred.eq(target.view_as(pred)).sum().item()\n",
        "    processed += len(data)\n",
        "\n",
        "    pbar.set_description(desc= f'Loss={loss.item()} Batch_id={batch_idx} Accuracy={100*correct/processed:0.2f}')\n",
        "    train_acc.append(100*correct/processed)\n",
        "\n",
        "\n",
        "def test(model, device, test_loader):\n",
        "    model.eval()\n",
        "    test_loss = 0\n",
        "    correct = 0\n",
        "    with torch.no_grad():\n",
        "        for data, target in test_loader:\n",
        "            data, target = data.to(device), target.to(device)\n",
        "            output = model(data)\n",
        "            test_loss += F.nll_loss(output, target, reduction='sum').item()  # sum up batch loss\n",
        "            pred = output.argmax(dim=1, keepdim=True)  # get the index of the max log-probability\n",
        "            correct += pred.eq(target.view_as(pred)).sum().item()\n",
        "\n",
        "    test_loss /= len(test_loader.dataset)\n",
        "    test_losses.append(test_loss)\n",
        "\n",
        "    print('\\nTest set: Average loss: {:.4f}, Accuracy: {}/{} ({:.2f}%)\\n'.format(\n",
        "        test_loss, correct, len(test_loader.dataset),\n",
        "        100. * correct / len(test_loader.dataset)))\n",
        "    \n",
        "    test_acc.append(100. * correct / len(test_loader.dataset))"
      ],
      "execution_count": 0,
      "outputs": []
    },
    {
      "cell_type": "code",
      "metadata": {
        "id": "qO3V20Lbykjl",
        "colab_type": "code",
        "outputId": "7432b730-93a8-477a-89af-e59dc2ae7bd0",
        "colab": {
          "base_uri": "https://localhost:8080/",
          "height": 494
        }
      },
      "source": [
        "dataiter = iter(train_loader)\n",
        "images, labels = dataiter.next()\n",
        "# Let's visualize some of the images\n",
        "%matplotlib inline\n",
        "import matplotlib.pyplot as plt\n",
        "\n",
        "plt.imshow(images[3].numpy().squeeze(), cmap='gray_r')\n",
        "\n",
        "figure = plt.figure()\n",
        "num_of_images = 60\n",
        "for index in range(1, num_of_images + 1):\n",
        "    plt.subplot(6, 10, index)\n",
        "    plt.axis('off')\n",
        "    plt.imshow(images[index].numpy().squeeze(), cmap='gray_r')"
      ],
      "execution_count": 0,
      "outputs": [
        {
          "output_type": "display_data",
          "data": {
            "image/png": "[encoded data removed]",
            "text/plain": [
              "<Figure size 432x288 with 1 Axes>"
            ]
          },
          "metadata": {
            "tags": []
          }
        },
        {
          "output_type": "display_data",
          "data": {
            "image/png": "[encoded data removed]",
            "text/plain": [
              "<Figure size 432x288 with 60 Axes>"
            ]
          },
          "metadata": {
            "tags": []
          }
        }
      ]
    },
    {
      "cell_type": "code",
      "metadata": {
        "id": "Jgln4ell8hyl",
        "colab_type": "code",
        "outputId": "196b5447-5d53-4e83-a0fc-7a4cdf33f35f",
        "colab": {
          "base_uri": "https://localhost:8080/",
          "height": 1000
        }
      },
      "source": [
        "model = Net().to(device)\n",
        "optimizer = optim.SGD(model.parameters(), lr=0.01, momentum=0.9)\n",
        "\n",
        "for epoch in range(1, 20):\n",
        "    print(\"epoches:\",epoch)\n",
        "    train(model, device, train_loader, optimizer, epoch)\n",
        "    test(model, device, test_loader)"
      ],
      "execution_count": 0,
      "outputs": [
        {
          "output_type": "stream",
          "text": [
            "\r  0%|          | 0/469 [00:00<?, ?it/s]"
          ],
          "name": "stderr"
        },
        {
          "output_type": "stream",
          "text": [
            "epoches: 1\n"
          ],
          "name": "stdout"
        },
        {
          "output_type": "stream",
          "text": [
            "/usr/local/lib/python3.6/dist-packages/ipykernel_launcher.py:65: UserWarning: Implicit dimension choice for log_softmax has been deprecated. Change the call to include dim=X as an argument.\n",
            "Loss=0.2591300904750824 Batch_id=468 Accuracy=85.00: 100%|██████████| 469/469 [00:11<00:00, 39.77it/s]\n",
            "  0%|          | 0/469 [00:00<?, ?it/s]"
          ],
          "name": "stderr"
        },
        {
          "output_type": "stream",
          "text": [
            "\n",
            "Test set: Average loss: 0.0973, Accuracy: 9722/10000 (97.22%)\n",
            "\n",
            "epoches: 2\n"
          ],
          "name": "stdout"
        },
        {
          "output_type": "stream",
          "text": [
            "Loss=0.1525292545557022 Batch_id=468 Accuracy=95.94: 100%|██████████| 469/469 [00:11<00:00, 40.45it/s]\n",
            "  0%|          | 0/469 [00:00<?, ?it/s]"
          ],
          "name": "stderr"
        },
        {
          "output_type": "stream",
          "text": [
            "\n",
            "Test set: Average loss: 0.0607, Accuracy: 9821/10000 (98.21%)\n",
            "\n",
            "epoches: 3\n"
          ],
          "name": "stdout"
        },
        {
          "output_type": "stream",
          "text": [
            "Loss=0.155695378780365 Batch_id=468 Accuracy=96.73: 100%|██████████| 469/469 [00:11<00:00, 42.39it/s]\n",
            "  0%|          | 0/469 [00:00<?, ?it/s]"
          ],
          "name": "stderr"
        },
        {
          "output_type": "stream",
          "text": [
            "\n",
            "Test set: Average loss: 0.0497, Accuracy: 9834/10000 (98.34%)\n",
            "\n",
            "epoches: 4\n"
          ],
          "name": "stdout"
        },
        {
          "output_type": "stream",
          "text": [
            "Loss=0.23485738039016724 Batch_id=468 Accuracy=97.22: 100%|██████████| 469/469 [00:12<00:00, 38.87it/s]\n",
            "  0%|          | 0/469 [00:00<?, ?it/s]"
          ],
          "name": "stderr"
        },
        {
          "output_type": "stream",
          "text": [
            "\n",
            "Test set: Average loss: 0.0443, Accuracy: 9854/10000 (98.54%)\n",
            "\n",
            "epoches: 5\n"
          ],
          "name": "stdout"
        },
        {
          "output_type": "stream",
          "text": [
            "Loss=0.10558553785085678 Batch_id=468 Accuracy=97.53: 100%|██████████| 469/469 [00:12<00:00, 41.92it/s]\n",
            "  0%|          | 0/469 [00:00<?, ?it/s]"
          ],
          "name": "stderr"
        },
        {
          "output_type": "stream",
          "text": [
            "\n",
            "Test set: Average loss: 0.0392, Accuracy: 9868/10000 (98.68%)\n",
            "\n",
            "epoches: 6\n"
          ],
          "name": "stdout"
        },
        {
          "output_type": "stream",
          "text": [
            "Loss=0.07124006748199463 Batch_id=468 Accuracy=97.76: 100%|██████████| 469/469 [00:11<00:00, 40.13it/s]\n",
            "  0%|          | 0/469 [00:00<?, ?it/s]"
          ],
          "name": "stderr"
        },
        {
          "output_type": "stream",
          "text": [
            "\n",
            "Test set: Average loss: 0.0373, Accuracy: 9869/10000 (98.69%)\n",
            "\n",
            "epoches: 7\n"
          ],
          "name": "stdout"
        },
        {
          "output_type": "stream",
          "text": [
            "Loss=0.027358099818229675 Batch_id=468 Accuracy=97.82: 100%|██████████| 469/469 [00:11<00:00, 42.68it/s]\n",
            "  0%|          | 0/469 [00:00<?, ?it/s]"
          ],
          "name": "stderr"
        },
        {
          "output_type": "stream",
          "text": [
            "\n",
            "Test set: Average loss: 0.0352, Accuracy: 9883/10000 (98.83%)\n",
            "\n",
            "epoches: 8\n"
          ],
          "name": "stdout"
        },
        {
          "output_type": "stream",
          "text": [
            "Loss=0.06112584099173546 Batch_id=468 Accuracy=98.01: 100%|██████████| 469/469 [00:11<00:00, 35.59it/s]\n",
            "  0%|          | 0/469 [00:00<?, ?it/s]"
          ],
          "name": "stderr"
        },
        {
          "output_type": "stream",
          "text": [
            "\n",
            "Test set: Average loss: 0.0359, Accuracy: 9875/10000 (98.75%)\n",
            "\n",
            "epoches: 9\n"
          ],
          "name": "stdout"
        },
        {
          "output_type": "stream",
          "text": [
            "Loss=0.1830618530511856 Batch_id=468 Accuracy=98.06: 100%|██████████| 469/469 [00:12<00:00, 38.81it/s]\n",
            "  0%|          | 0/469 [00:00<?, ?it/s]"
          ],
          "name": "stderr"
        },
        {
          "output_type": "stream",
          "text": [
            "\n",
            "Test set: Average loss: 0.0337, Accuracy: 9895/10000 (98.95%)\n",
            "\n",
            "epoches: 10\n"
          ],
          "name": "stdout"
        },
        {
          "output_type": "stream",
          "text": [
            "Loss=0.10249773412942886 Batch_id=468 Accuracy=98.13: 100%|██████████| 469/469 [00:11<00:00, 40.24it/s]\n",
            "  0%|          | 0/469 [00:00<?, ?it/s]"
          ],
          "name": "stderr"
        },
        {
          "output_type": "stream",
          "text": [
            "\n",
            "Test set: Average loss: 0.0385, Accuracy: 9867/10000 (98.67%)\n",
            "\n",
            "epoches: 11\n"
          ],
          "name": "stdout"
        },
        {
          "output_type": "stream",
          "text": [
            "Loss=0.017881711944937706 Batch_id=468 Accuracy=98.14: 100%|██████████| 469/469 [00:11<00:00, 40.12it/s]\n",
            "  0%|          | 0/469 [00:00<?, ?it/s]"
          ],
          "name": "stderr"
        },
        {
          "output_type": "stream",
          "text": [
            "\n",
            "Test set: Average loss: 0.0327, Accuracy: 9892/10000 (98.92%)\n",
            "\n",
            "epoches: 12\n"
          ],
          "name": "stdout"
        },
        {
          "output_type": "stream",
          "text": [
            "Loss=0.1369500309228897 Batch_id=468 Accuracy=98.19: 100%|██████████| 469/469 [00:11<00:00, 40.41it/s]\n",
            "  0%|          | 0/469 [00:00<?, ?it/s]"
          ],
          "name": "stderr"
        },
        {
          "output_type": "stream",
          "text": [
            "\n",
            "Test set: Average loss: 0.0321, Accuracy: 9890/10000 (98.90%)\n",
            "\n",
            "epoches: 13\n"
          ],
          "name": "stdout"
        },
        {
          "output_type": "stream",
          "text": [
            "Loss=0.020283659920096397 Batch_id=468 Accuracy=98.27: 100%|██████████| 469/469 [00:12<00:00, 38.54it/s]\n",
            "  0%|          | 0/469 [00:00<?, ?it/s]"
          ],
          "name": "stderr"
        },
        {
          "output_type": "stream",
          "text": [
            "\n",
            "Test set: Average loss: 0.0294, Accuracy: 9897/10000 (98.97%)\n",
            "\n",
            "epoches: 14\n"
          ],
          "name": "stdout"
        },
        {
          "output_type": "stream",
          "text": [
            "Loss=0.017296919599175453 Batch_id=468 Accuracy=98.34: 100%|██████████| 469/469 [00:12<00:00, 39.07it/s]\n",
            "  0%|          | 0/469 [00:00<?, ?it/s]"
          ],
          "name": "stderr"
        },
        {
          "output_type": "stream",
          "text": [
            "\n",
            "Test set: Average loss: 0.0313, Accuracy: 9902/10000 (99.02%)\n",
            "\n",
            "epoches: 15\n"
          ],
          "name": "stdout"
        },
        {
          "output_type": "stream",
          "text": [
            "Loss=0.032414812594652176 Batch_id=468 Accuracy=98.35: 100%|██████████| 469/469 [00:11<00:00, 40.91it/s]\n",
            "  0%|          | 0/469 [00:00<?, ?it/s]"
          ],
          "name": "stderr"
        },
        {
          "output_type": "stream",
          "text": [
            "\n",
            "Test set: Average loss: 0.0297, Accuracy: 9901/10000 (99.01%)\n",
            "\n",
            "epoches: 16\n"
          ],
          "name": "stdout"
        },
        {
          "output_type": "stream",
          "text": [
            "Loss=0.1301061511039734 Batch_id=468 Accuracy=98.39: 100%|██████████| 469/469 [00:11<00:00, 41.19it/s]\n",
            "  0%|          | 0/469 [00:00<?, ?it/s]"
          ],
          "name": "stderr"
        },
        {
          "output_type": "stream",
          "text": [
            "\n",
            "Test set: Average loss: 0.0268, Accuracy: 9902/10000 (99.02%)\n",
            "\n",
            "epoches: 17\n"
          ],
          "name": "stdout"
        },
        {
          "output_type": "stream",
          "text": [
            "Loss=0.06304971873760223 Batch_id=468 Accuracy=98.48: 100%|██████████| 469/469 [00:11<00:00, 39.82it/s]\n",
            "  0%|          | 0/469 [00:00<?, ?it/s]"
          ],
          "name": "stderr"
        },
        {
          "output_type": "stream",
          "text": [
            "\n",
            "Test set: Average loss: 0.0281, Accuracy: 9908/10000 (99.08%)\n",
            "\n",
            "epoches: 18\n"
          ],
          "name": "stdout"
        },
        {
          "output_type": "stream",
          "text": [
            "Loss=0.03614738583564758 Batch_id=468 Accuracy=98.47: 100%|██████████| 469/469 [00:11<00:00, 34.81it/s]\n",
            "  0%|          | 0/469 [00:00<?, ?it/s]"
          ],
          "name": "stderr"
        },
        {
          "output_type": "stream",
          "text": [
            "\n",
            "Test set: Average loss: 0.0262, Accuracy: 9911/10000 (99.11%)\n",
            "\n",
            "epoches: 19\n"
          ],
          "name": "stdout"
        },
        {
          "output_type": "stream",
          "text": [
            "Loss=0.015266363508999348 Batch_id=468 Accuracy=98.45: 100%|██████████| 469/469 [00:11<00:00, 39.81it/s]\n"
          ],
          "name": "stderr"
        },
        {
          "output_type": "stream",
          "text": [
            "\n",
            "Test set: Average loss: 0.0251, Accuracy: 9907/10000 (99.07%)\n",
            "\n"
          ],
          "name": "stdout"
        }
      ]
    },
    {
      "cell_type": "code",
      "metadata": {
        "id": "Zyi9PelT8jDd",
        "colab_type": "code",
        "colab": {}
      },
      "source": [
        ""
      ],
      "execution_count": 0,
      "outputs": []
    }
  ]
}